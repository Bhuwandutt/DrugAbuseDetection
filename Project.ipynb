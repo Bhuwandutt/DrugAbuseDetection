{
 "cells": [
  {
   "cell_type": "markdown",
   "metadata": {},
   "source": [
    "IMPORT LIBRARIES"
   ]
  },
  {
   "cell_type": "code",
   "execution_count": 1,
   "metadata": {},
   "outputs": [],
   "source": [
    "import cv2\n",
    "import numpy as np\n",
    "import  pandas as pd\n",
    "import os\n",
    "from pathlib import Path\n",
    "import PIL as pil\n",
    "from PIL import Image\n",
    "from skimage.io import imread\n",
    "from skimage.transform import resize\n",
    "from skimage.feature import hog\n",
    "from skimage import exposure\n",
    "import matplotlib.pyplot as plt\n",
    "import time\n",
    "from sklearn.svm import SVC\n",
    "from sklearn.neighbors import KNeighborsClassifier\n",
    "from sklearn.model_selection import train_test_split\n",
    "from sklearn.metrics import accuracy_score, confusion_matrix\n",
    "\n",
    "\n",
    "# !sudo pip install opencv-python==3.4.2.17\n",
    "\n",
    "# !sudo python3 pip install opencv-contrib-python==3.4.2.17"
   ]
  },
  {
   "cell_type": "markdown",
   "metadata": {},
   "source": [
    "PRE-PROCESSING"
   ]
  },
  {
   "cell_type": "code",
   "execution_count": 2,
   "metadata": {},
   "outputs": [],
   "source": [
    "def preprocessing(directory):\n",
    "    images=[]\n",
    "    current_dir = Path('Dataset/Drug Abuse/')\n",
    "    entries= os.listdir(directory)\n",
    "    for ent in entries:\n",
    "        if ent != '.DS_Store':\n",
    "            image=cv2.imread(os.getcwd()+\"/\"+directory+ent,0)\n",
    "            #print(type(image))\n",
    "            #image=image.tolist()\n",
    "            resized_image = cv2.resize(image, (128,64), interpolation = cv2.INTER_AREA)\n",
    "            #image_array=np.array(resized_image)\n",
    "            images.append((resized_image))\n",
    "    return images"
   ]
  },
  {
   "cell_type": "code",
   "execution_count": 3,
   "metadata": {},
   "outputs": [
    {
     "name": "stderr",
     "output_type": "stream",
     "text": [
      "libpng warning: iCCP: profile 'icc': 0h: PCS illuminant is not D50\n",
      "libpng warning: iCCP: profile 'icc': 0h: PCS illuminant is not D50\n"
     ]
    },
    {
     "name": "stdout",
     "output_type": "stream",
     "text": [
      "196\n"
     ]
    }
   ],
   "source": [
    "images_d=preprocessing('Dataset/Drug Abuse/')\n",
    "images_n=preprocessing('Dataset/Non Drug Abuse/')\n",
    "images=images_d+images_n\n",
    "print(len(images))"
   ]
  },
  {
   "cell_type": "code",
   "execution_count": 4,
   "metadata": {},
   "outputs": [],
   "source": [
    "def feature_extraction(images,method): \n",
    "    features=[]\n",
    "    #print(type(features))\n",
    "    for img in images: \n",
    "        if method=='HOG':\n",
    "            fd, hog_image = hog(img, orientations=9, pixels_per_cell=(8, 8),cells_per_block=(2, 2), visualize=True, multichannel=False)\n",
    "            features.append(fd)\n",
    "        if method=='SIFT':\n",
    "            sift = cv2.xfeatures2d.SIFT_create()\n",
    "            keypoints, descriptors = sift.detectAndCompute(img, None)\n",
    "            if descriptors is not None:\n",
    "                features.append(descriptors)  \n",
    "                #features.append(descriptors)  \n",
    "            #features = np.vstack(features)\n",
    "    return features"
   ]
  },
  {
   "cell_type": "code",
   "execution_count": 5,
   "metadata": {},
   "outputs": [
    {
     "name": "stderr",
     "output_type": "stream",
     "text": [
      "[ WARN:0] DEPRECATED: cv.xfeatures2d.SIFT_create() is deprecated due SIFT tranfer to the main repository. https://github.com/opencv/opencv/issues/16736\n"
     ]
    }
   ],
   "source": [
    "images_features = feature_extraction(images,'SIFT')\n",
    "images_features = np.vstack(images_features)\n",
    "k = 150\n",
    "criteria = (cv2.TERM_CRITERIA_EPS + cv2.TERM_CRITERIA_MAX_ITER, 10, 0.1)\n",
    "flags = cv2.KMEANS_RANDOM_CENTERS\n",
    "compactness, labels, centres = cv2.kmeans(images_features, k, None, criteria, 10, flags)\n"
   ]
  },
  {
   "cell_type": "code",
   "execution_count": 6,
   "metadata": {},
   "outputs": [],
   "source": [
    "def bag_of_features(features, centres, k = 500):\n",
    "      vec = np.zeros((1, k))\n",
    "      for i in range(features.shape[0]):\n",
    "          feat = features[i]\n",
    "          diff = np.tile(feat, (k, 1)) - centres\n",
    "          dist = pow(((pow(diff, 2)).sum(axis = 1)), 0.5)\n",
    "          idx_dist = dist.argsort()\n",
    "          idx = idx_dist[0]\n",
    "          vec[0][idx] += 1\n",
    "      return vec"
   ]
  },
  {
   "cell_type": "markdown",
   "metadata": {},
   "source": [
    "Bag Of Visual Words"
   ]
  },
  {
   "cell_type": "code",
   "execution_count": 7,
   "metadata": {},
   "outputs": [],
   "source": [
    "def bovw(images):\n",
    "    vec=[]\n",
    "    labels=[]\n",
    "    i=0\n",
    "    #print(type(vect))\n",
    "    for img in images:\n",
    "        sift = cv2.xfeatures2d.SIFT_create()\n",
    "        keypoints, descriptors = sift.detectAndCompute(img, None)\n",
    "        if descriptors is not None:\n",
    "            img_vec = bag_of_features(descriptors, centres, k)\n",
    "            #print(type(vect))\n",
    "            vec.append(img_vec)\n",
    "            if i < len(images_d):\n",
    "                labels.append(int(1))\n",
    "            #features.append(descriptors)  \n",
    "            else:\n",
    "                labels.append(int(0))\n",
    "        i=i+1\n",
    "    vec= np.vstack(vec)\n",
    "    return vec,labels"
   ]
  },
  {
   "cell_type": "markdown",
   "metadata": {},
   "source": [
    "FINDING SIFT FEATURES"
   ]
  },
  {
   "cell_type": "code",
   "execution_count": 8,
   "metadata": {},
   "outputs": [
    {
     "name": "stdout",
     "output_type": "stream",
     "text": [
      "196\n"
     ]
    }
   ],
   "source": [
    "images_features_sift,labels=bovw(images)\n",
    "print(len(labels))"
   ]
  },
  {
   "cell_type": "markdown",
   "metadata": {},
   "source": [
    "FINDING HOG FEATURES"
   ]
  },
  {
   "cell_type": "code",
   "execution_count": 9,
   "metadata": {},
   "outputs": [],
   "source": [
    "images_features_hog = feature_extraction(images,'HOG')\n",
    "images_features_hog=np.vstack(images_features_hog)"
   ]
  },
  {
   "cell_type": "markdown",
   "metadata": {},
   "source": [
    "SUPPORT VECTOR MACHINE"
   ]
  },
  {
   "cell_type": "code",
   "execution_count": 10,
   "metadata": {},
   "outputs": [],
   "source": [
    "\n",
    "def SVM(dataf):\n",
    "  X_train, X_test, y_train, y_test = train_test_split(dataf, labels, test_size=0.2)\n",
    "  clf = SVC()\n",
    "  clf.fit(X_train, y_train)\n",
    "  preds = clf.predict(X_test)\n",
    "  acc = accuracy_score(y_test, preds)\n",
    "  conf_mat = confusion_matrix(y_test, preds)\n",
    "\n",
    "  t1 = time.time()\n",
    "  \n",
    "  return acc*100, conf_mat\n",
    "\n",
    "#acc,confusin_mat=SVM()\n"
   ]
  },
  {
   "cell_type": "markdown",
   "metadata": {},
   "source": [
    "K Nearest Neighbour "
   ]
  },
  {
   "cell_type": "code",
   "execution_count": 16,
   "metadata": {},
   "outputs": [],
   "source": [
    "\n",
    "def KNN(dataf):\n",
    "  X_train, X_test, y_train, y_test = train_test_split(dataf, labels, test_size=0.2)\n",
    "  clf = KNeighborsClassifier(n_neighbors=7)\n",
    "  clf.fit(X_train, y_train)\n",
    "  preds = clf.predict(X_test)\n",
    "  acc = accuracy_score(y_test, preds)\n",
    "  conf_mat = confusion_matrix(y_test, preds)\n",
    "  t1 = time.time()\n",
    "  \n",
    "  return acc*100, conf_mat\n"
   ]
  },
  {
   "cell_type": "code",
   "execution_count": 17,
   "metadata": {},
   "outputs": [
    {
     "name": "stdout",
     "output_type": "stream",
     "text": [
      "KNN with SIFT Features: 67 \n",
      "KNN with HOG Features: 60 \n"
     ]
    }
   ],
   "source": [
    "acc1_KNN,conf_mat1_KNN=KNN(images_features_sift)\n",
    "print(\"KNN with SIFT Features: %d \" %acc1_KNN)\n",
    "acc2_KNN,conf_mat2_KNN=KNN(images_features_hog)\n",
    "print(\"KNN with HOG Features: %d \" %acc2_KNN)"
   ]
  },
  {
   "cell_type": "code",
   "execution_count": 13,
   "metadata": {},
   "outputs": [
    {
     "name": "stdout",
     "output_type": "stream",
     "text": [
      "SVM with SIFT Features: 87 \n",
      "SVM with HOG Features: 80 \n"
     ]
    }
   ],
   "source": [
    "acc1_SVM,confusin_mat1_SVM=SVM(images_features_sift)\n",
    "print(\"SVM with SIFT Features: %d \" %acc1_SVM)\n",
    "\n",
    "acc2_SVM,confusin_mat2_SVM=SVM(images_features_hog)\n",
    "print(\"SVM with HOG Features: %d \" %acc2_SVM)\n"
   ]
  }
 ],
 "metadata": {
  "interpreter": {
   "hash": "aee8b7b246df8f9039afb4144a1f6fd8d2ca17a180786b69acc140d282b71a49"
  },
  "kernelspec": {
   "display_name": "Python 3.9.7 64-bit",
   "language": "python",
   "name": "python3"
  },
  "language_info": {
   "codemirror_mode": {
    "name": "ipython",
    "version": 3
   },
   "file_extension": ".py",
   "mimetype": "text/x-python",
   "name": "python",
   "nbconvert_exporter": "python",
   "pygments_lexer": "ipython3",
   "version": "3.9.7"
  },
  "orig_nbformat": 4
 },
 "nbformat": 4,
 "nbformat_minor": 2
}
